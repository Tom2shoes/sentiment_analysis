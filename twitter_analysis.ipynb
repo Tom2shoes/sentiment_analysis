{
 "cells": [
  {
   "cell_type": "code",
   "execution_count": 23,
   "metadata": {},
   "outputs": [],
   "source": [
    "# Dependencies\n",
    "import tweepy\n",
    "import json\n",
    "import numpy as np\n",
    "import pandas as pd\n",
    "\n",
    "from config import (consumer_key, \n",
    "                    consumer_secret, \n",
    "                    access_token, \n",
    "                    access_token_secret)\n",
    "\n",
    "from vaderSentiment.vaderSentiment import SentimentIntensityAnalyzer\n",
    "analyzer = SentimentIntensityAnalyzer()"
   ]
  },
  {
   "cell_type": "code",
   "execution_count": 24,
   "metadata": {},
   "outputs": [],
   "source": [
    "# Setup Tweepy API Authentication\n",
    "auth = tweepy.OAuthHandler(consumer_key, consumer_secret)\n",
    "auth.set_access_token(access_token, access_token_secret)\n",
    "api = tweepy.API(auth, parser=tweepy.parsers.JSONParser())"
   ]
  },
  {
   "cell_type": "code",
   "execution_count": 29,
   "metadata": {},
   "outputs": [],
   "source": [
    "# List of target users\n",
    "target_user = [\"@BBC\", \"@CBS\", \"@CNN\", \"@FoxNews\", \"@NYTimes\"]\n",
    "\n",
    "# List for dictionaries of results\n",
    "results_list = []\n",
    "\n",
    "# Loop through each user\n",
    "for user in target_user:\n",
    "\n",
    "    # Counter\n",
    "    counter = 1\n",
    "\n",
    "    # Variable for max_id\n",
    "    oldest_tweet = None\n",
    "    \n",
    "    # Loop through 5 pages of tweets (total 100 tweets)\n",
    "    for _ in range(5):\n",
    "\n",
    "        # Get all tweets from home feed\n",
    "        public_tweets = api.user_timeline(user, max_id = oldest_tweet)\n",
    "\n",
    "        # Loop through all tweets\n",
    "        for tweet in public_tweets:\n",
    "\n",
    "            # Run Vader Analysis on each tweet\n",
    "            results = analyzer.polarity_scores(tweet[\"text\"])\n",
    "            compound = results[\"compound\"]\n",
    "            pos = results[\"pos\"]\n",
    "            neu = results[\"neu\"]\n",
    "            neg = results[\"neg\"]\n",
    "            \n",
    "            # Create a dictionaty of results\n",
    "            tweet_entity = {\n",
    "                \"Username\": user,\n",
    "                \"Date\": tweet[\"created_at\"],\n",
    "                \"Compound\": compound,\n",
    "                \"Positive\": pos,\n",
    "                \"Negative\": neu,\n",
    "                \"Neutral\": neg,\n",
    "                \"Tweets Ago\": counter\n",
    "            }\n",
    "\n",
    "            # Append dictionary to list\n",
    "            results_list.append(tweet_entity)\n",
    "\n",
    "            # Get Tweet ID, subtract 1, and assign to oldest_tweet\n",
    "            oldest_tweet = tweet['id'] - 1\n",
    "            \n",
    "            #Add to counter \n",
    "            counter += 1"
   ]
  },
  {
   "cell_type": "code",
   "execution_count": 30,
   "metadata": {},
   "outputs": [
    {
     "data": {
      "text/plain": [
       "(500, 7)"
      ]
     },
     "execution_count": 30,
     "metadata": {},
     "output_type": "execute_result"
    }
   ],
   "source": [
    "# Convert sentiments to DataFrame\n",
    "sentiments_pd = pd.DataFrame.from_dict(results_list)\n",
    "sentiments_pd.shape"
   ]
  },
  {
   "cell_type": "code",
   "execution_count": 19,
   "metadata": {},
   "outputs": [],
   "source": []
  },
  {
   "cell_type": "code",
   "execution_count": null,
   "metadata": {},
   "outputs": [],
   "source": []
  },
  {
   "cell_type": "code",
   "execution_count": null,
   "metadata": {},
   "outputs": [],
   "source": []
  },
  {
   "cell_type": "code",
   "execution_count": null,
   "metadata": {},
   "outputs": [],
   "source": []
  }
 ],
 "metadata": {
  "kernelspec": {
   "display_name": "Python [conda env:PythonData]",
   "language": "python",
   "name": "conda-env-PythonData-py"
  },
  "language_info": {
   "codemirror_mode": {
    "name": "ipython",
    "version": 3
   },
   "file_extension": ".py",
   "mimetype": "text/x-python",
   "name": "python",
   "nbconvert_exporter": "python",
   "pygments_lexer": "ipython3",
   "version": "3.6.5"
  }
 },
 "nbformat": 4,
 "nbformat_minor": 2
}
